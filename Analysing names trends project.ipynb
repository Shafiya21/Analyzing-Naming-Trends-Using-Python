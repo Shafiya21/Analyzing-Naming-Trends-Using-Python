{
 "cells": [
  {
   "cell_type": "code",
   "execution_count": 3,
   "id": "92f625e7",
   "metadata": {},
   "outputs": [],
   "source": [
    "import numpy as np\n",
    "import pandas as pd\n",
    "import matplotlib.pyplot as plt\n",
    "import seaborn as sns\n",
    "import zipfile\n",
    "from io import BytesIO\n",
    "import os"
   ]
  },
  {
   "cell_type": "code",
   "execution_count": 4,
   "id": "07e09d66",
   "metadata": {},
   "outputs": [],
   "source": [
    "zipfile_path = \"names.zip\""
   ]
  },
  {
   "cell_type": "code",
   "execution_count": 55,
   "id": "0105c5da",
   "metadata": {},
   "outputs": [],
   "source": [
    "extracted_dir = 'extracted data'\n",
    "os.makedirs(extracted_dir, exist_ok =True)"
   ]
  },
  {
   "cell_type": "code",
   "execution_count": 56,
   "id": "f7d3ce84",
   "metadata": {},
   "outputs": [],
   "source": [
    " #Extract the zipfile\n",
    "    \n",
    "with zipfile.ZipFile(zipfile_path,'r') as z:\n",
    "    z.extractall(extracted_dir)"
   ]
  },
  {
   "cell_type": "code",
   "execution_count": 57,
   "id": "cd2fb364",
   "metadata": {},
   "outputs": [],
   "source": [
    "def process_data(file_path):\n",
    "    df = pd.read_csv(file_path, header=None, names = ['Name', 'Gender', 'Count'])\n",
    "    df['Year'] = int(file_path[-8:-4])\n",
    "    return df"
   ]
  },
  {
   "cell_type": "code",
   "execution_count": 59,
   "id": "f12266a8",
   "metadata": {},
   "outputs": [],
   "source": [
    "data_frames = []\n",
    "for file_name in os.listdir(extracted_dir):\n",
    "    if file_name.endswith('.txt'):\n",
    "        file_path = os.path.join(extracted_dir, file_name)\n",
    "        data_frames.append(process_data(file_path))"
   ]
  },
  {
   "cell_type": "code",
   "execution_count": 60,
   "id": "18deb374",
   "metadata": {},
   "outputs": [],
   "source": [
    "full_data = pd.concat(data_frames, ignore_index=True)"
   ]
  },
  {
   "cell_type": "code",
   "execution_count": 61,
   "id": "2db8bfaa",
   "metadata": {},
   "outputs": [
    {
     "data": {
      "text/html": [
       "<div>\n",
       "<style scoped>\n",
       "    .dataframe tbody tr th:only-of-type {\n",
       "        vertical-align: middle;\n",
       "    }\n",
       "\n",
       "    .dataframe tbody tr th {\n",
       "        vertical-align: top;\n",
       "    }\n",
       "\n",
       "    .dataframe thead th {\n",
       "        text-align: right;\n",
       "    }\n",
       "</style>\n",
       "<table border=\"1\" class=\"dataframe\">\n",
       "  <thead>\n",
       "    <tr style=\"text-align: right;\">\n",
       "      <th></th>\n",
       "      <th>Name</th>\n",
       "      <th>Gender</th>\n",
       "      <th>Count</th>\n",
       "      <th>Year</th>\n",
       "    </tr>\n",
       "  </thead>\n",
       "  <tbody>\n",
       "    <tr>\n",
       "      <th>0</th>\n",
       "      <td>Mary</td>\n",
       "      <td>F</td>\n",
       "      <td>7065</td>\n",
       "      <td>1880</td>\n",
       "    </tr>\n",
       "    <tr>\n",
       "      <th>1</th>\n",
       "      <td>Anna</td>\n",
       "      <td>F</td>\n",
       "      <td>2604</td>\n",
       "      <td>1880</td>\n",
       "    </tr>\n",
       "    <tr>\n",
       "      <th>2</th>\n",
       "      <td>Emma</td>\n",
       "      <td>F</td>\n",
       "      <td>2003</td>\n",
       "      <td>1880</td>\n",
       "    </tr>\n",
       "    <tr>\n",
       "      <th>3</th>\n",
       "      <td>Elizabeth</td>\n",
       "      <td>F</td>\n",
       "      <td>1939</td>\n",
       "      <td>1880</td>\n",
       "    </tr>\n",
       "    <tr>\n",
       "      <th>4</th>\n",
       "      <td>Minnie</td>\n",
       "      <td>F</td>\n",
       "      <td>1746</td>\n",
       "      <td>1880</td>\n",
       "    </tr>\n",
       "    <tr>\n",
       "      <th>...</th>\n",
       "      <td>...</td>\n",
       "      <td>...</td>\n",
       "      <td>...</td>\n",
       "      <td>...</td>\n",
       "    </tr>\n",
       "    <tr>\n",
       "      <th>2085153</th>\n",
       "      <td>Zuberi</td>\n",
       "      <td>M</td>\n",
       "      <td>5</td>\n",
       "      <td>2022</td>\n",
       "    </tr>\n",
       "    <tr>\n",
       "      <th>2085154</th>\n",
       "      <td>Zydn</td>\n",
       "      <td>M</td>\n",
       "      <td>5</td>\n",
       "      <td>2022</td>\n",
       "    </tr>\n",
       "    <tr>\n",
       "      <th>2085155</th>\n",
       "      <td>Zylon</td>\n",
       "      <td>M</td>\n",
       "      <td>5</td>\n",
       "      <td>2022</td>\n",
       "    </tr>\n",
       "    <tr>\n",
       "      <th>2085156</th>\n",
       "      <td>Zymeer</td>\n",
       "      <td>M</td>\n",
       "      <td>5</td>\n",
       "      <td>2022</td>\n",
       "    </tr>\n",
       "    <tr>\n",
       "      <th>2085157</th>\n",
       "      <td>Zymeire</td>\n",
       "      <td>M</td>\n",
       "      <td>5</td>\n",
       "      <td>2022</td>\n",
       "    </tr>\n",
       "  </tbody>\n",
       "</table>\n",
       "<p>2085158 rows × 4 columns</p>\n",
       "</div>"
      ],
      "text/plain": [
       "              Name Gender  Count  Year\n",
       "0             Mary      F   7065  1880\n",
       "1             Anna      F   2604  1880\n",
       "2             Emma      F   2003  1880\n",
       "3        Elizabeth      F   1939  1880\n",
       "4           Minnie      F   1746  1880\n",
       "...            ...    ...    ...   ...\n",
       "2085153     Zuberi      M      5  2022\n",
       "2085154       Zydn      M      5  2022\n",
       "2085155      Zylon      M      5  2022\n",
       "2085156     Zymeer      M      5  2022\n",
       "2085157    Zymeire      M      5  2022\n",
       "\n",
       "[2085158 rows x 4 columns]"
      ]
     },
     "execution_count": 61,
     "metadata": {},
     "output_type": "execute_result"
    }
   ],
   "source": [
    "full_data"
   ]
  },
  {
   "cell_type": "code",
   "execution_count": 63,
   "id": "5743a7d7",
   "metadata": {},
   "outputs": [
    {
     "data": {
      "text/plain": [
       "(2085158, 4)"
      ]
     },
     "execution_count": 63,
     "metadata": {},
     "output_type": "execute_result"
    }
   ],
   "source": [
    "full_data.shape"
   ]
  },
  {
   "cell_type": "code",
   "execution_count": 64,
   "id": "354a6903",
   "metadata": {},
   "outputs": [
    {
     "data": {
      "text/plain": [
       "Name      object\n",
       "Gender    object\n",
       "Count      int64\n",
       "Year       int64\n",
       "dtype: object"
      ]
     },
     "execution_count": 64,
     "metadata": {},
     "output_type": "execute_result"
    }
   ],
   "source": [
    "full_data.dtypes"
   ]
  },
  {
   "cell_type": "code",
   "execution_count": 66,
   "id": "a6b880bf",
   "metadata": {
    "scrolled": false
   },
   "outputs": [
    {
     "data": {
      "image/png": "[encoded data removed]",
      "text/plain": [
       "<Figure size 640x480 with 1 Axes>"
      ]
     },
     "metadata": {},
     "output_type": "display_data"
    }
   ],
   "source": [
    "yearly_gender_count = full_data.groupby(['Year', 'Gender'])['Count'].sum().unstack()\n",
    "yearly_gender_count.plot(kind = 'bar', stacked = True)\n",
    "plt.xlabel('Year')\n",
    "plt.ylabel('Number of Babies born')\n",
    "plt.title('Number of male & female babies born each year')\n",
    "plt.legend(title ='Gender', loc='upper left')\n",
    "plt.show()"
   ]
  },
  {
   "cell_type": "code",
   "execution_count": 67,
   "id": "35759ce8",
   "metadata": {
    "scrolled": true
   },
   "outputs": [
    {
     "name": "stdout",
     "output_type": "stream",
     "text": [
      "Name\n",
      "James      5238523\n",
      "John       5180158\n",
      "Robert     4858239\n",
      "Michael    4423430\n",
      "William    4183494\n",
      "            ...   \n",
      "Brenda      610047\n",
      "Aaron       605834\n",
      "Frances     598130\n",
      "Pamela      596176\n",
      "Willie      595921\n",
      "Name: Count, Length: 100, dtype: int64\n"
     ]
    }
   ],
   "source": [
    "name_counts = full_data.groupby('Name')['Count'].sum()\n",
    "top_100_names = name_counts.sort_values(ascending = False).head(100)\n",
    "print(top_100_names)"
   ]
  },
  {
   "cell_type": "code",
   "execution_count": 68,
   "id": "7a1fd899",
   "metadata": {},
   "outputs": [
    {
     "name": "stdout",
     "output_type": "stream",
     "text": [
      "Ratio of Male to Female Babies Born: 1.02\n"
     ]
    }
   ],
   "source": [
    "import pandas as pd\n",
    "\n",
    "# Assuming you have already loaded and processed your data into the 'full_data' DataFrame\n",
    "\n",
    "# Calculate the total number of male babies\n",
    "total_male_babies = full_data[full_data['Gender'] == 'M']['Count'].sum()\n",
    "\n",
    "# Calculate the total number of female babies\n",
    "total_female_babies = full_data[full_data['Gender'] == 'F']['Count'].sum()\n",
    "\n",
    "# Calculate the ratio of male to female babies\n",
    "ratio_male_to_female = total_male_babies / total_female_babies\n",
    "\n",
    "print(f\"Ratio of Male to Female Babies Born: {ratio_male_to_female:.2f}\")\n"
   ]
  },
  {
   "cell_type": "code",
   "execution_count": 69,
   "id": "23e7d977",
   "metadata": {},
   "outputs": [
    {
     "name": "stdout",
     "output_type": "stream",
     "text": [
      "Total Number of Male Babies Born: 184615480\n"
     ]
    }
   ],
   "source": [
    "import pandas as pd\n",
    "\n",
    "# Assuming you have already loaded and processed your data into the 'full_data' DataFrame\n",
    "\n",
    "# Calculate the total number of male babies\n",
    "total_male_babies = full_data[full_data['Gender'] == 'M']['Count'].sum()\n",
    "\n",
    "print(f\"Total Number of Male Babies Born: {total_male_babies}\")\n"
   ]
  },
  {
   "cell_type": "code",
   "execution_count": 70,
   "id": "57c6ffa1",
   "metadata": {},
   "outputs": [
    {
     "name": "stdout",
     "output_type": "stream",
     "text": [
      "Total Number of Female Babies Born: 180680711\n"
     ]
    }
   ],
   "source": [
    "import pandas as pd\n",
    "\n",
    "# Assuming you have already loaded and processed your data into the 'full_data' DataFrame\n",
    "\n",
    "# Calculate the total number of male babies\n",
    "total_male_babies = full_data[full_data['Gender'] == 'F']['Count'].sum()\n",
    "\n",
    "print(f\"Total Number of Female Babies Born: {total_male_babies}\")\n"
   ]
  },
  {
   "cell_type": "code",
   "execution_count": 71,
   "id": "11f17bc8",
   "metadata": {},
   "outputs": [
    {
     "name": "stdout",
     "output_type": "stream",
     "text": [
      "Difference Between Male and Female Babies Born: 0\n"
     ]
    }
   ],
   "source": [
    "difference = total_male_babies - total_female_babies\n",
    "\n",
    "print(f\"Difference Between Male and Female Babies Born: {difference}\")"
   ]
  },
  {
   "cell_type": "code",
   "execution_count": 72,
   "id": "653374ab",
   "metadata": {},
   "outputs": [
    {
     "name": "stdout",
     "output_type": "stream",
     "text": [
      "Ratio of Male to Female Babies Born: 1.00\n"
     ]
    }
   ],
   "source": [
    "ratio_male_to_female = total_male_babies / total_female_babies\n",
    "\n",
    "print(f\"Ratio of Male to Female Babies Born: {ratio_male_to_female:.2f}\")"
   ]
  },
  {
   "cell_type": "code",
   "execution_count": null,
   "id": "b04d0310",
   "metadata": {},
   "outputs": [],
   "source": []
  },
  {
   "cell_type": "code",
   "execution_count": null,
   "id": "f4fc90e4",
   "metadata": {},
   "outputs": [],
   "source": []
  },
  {
   "cell_type": "code",
   "execution_count": null,
   "id": "3ad4d476",
   "metadata": {},
   "outputs": [],
   "source": []
  },
  {
   "cell_type": "code",
   "execution_count": null,
   "id": "a9d16732",
   "metadata": {},
   "outputs": [],
   "source": []
  },
  {
   "cell_type": "code",
   "execution_count": null,
   "id": "20cad840",
   "metadata": {},
   "outputs": [],
   "source": []
  }
 ],
 "metadata": {
  "kernelspec": {
   "display_name": "Python 3 (ipykernel)",
   "language": "python",
   "name": "python3"
  },
  "language_info": {
   "codemirror_mode": {
    "name": "ipython",
    "version": 3
   },
   "file_extension": ".py",
   "mimetype": "text/x-python",
   "name": "python",
   "nbconvert_exporter": "python",
   "pygments_lexer": "ipython3",
   "version": "3.10.9"
  }
 },
 "nbformat": 4,
 "nbformat_minor": 5
}
